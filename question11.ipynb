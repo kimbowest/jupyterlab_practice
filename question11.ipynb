{
 "cells": [
  {
   "cell_type": "markdown",
   "id": "c3c87e88-9439-4933-95c4-9d925c88f0fb",
   "metadata": {},
   "source": [
    "# Kien To\n",
    "Notebook for assignment 7"
   ]
  },
  {
   "cell_type": "code",
   "execution_count": 1,
   "id": "3deee2ee-ea00-4560-b309-4ad2acf527ab",
   "metadata": {},
   "outputs": [
    {
     "name": "stdout",
     "output_type": "stream",
     "text": [
      "5.0\n"
     ]
    }
   ],
   "source": [
    "def compute_mean(values):\n",
    "    return sum(values) / len(values)\n",
    "\n",
    "# Call the function and print the result\n",
    "print(compute_mean([2, 4, 6, 8]))"
   ]
  },
  {
   "cell_type": "markdown",
   "id": "d1575c98-8336-4169-ac9e-157760721f67",
   "metadata": {},
   "source": [
    "The `compute_mean` function calculates the average of a list of numbers. The mean is calculated as the sum of all numbers divided by the count of numbers.\n",
    "\n",
    "The equation for the mean is:\n",
    "\n",
    "$$ \\bar{x} = \\frac{x_1 + x_2 + \\ldots + x_n}{n} $$\n",
    "\n",
    "or alternatively,\n",
    "\n",
    "$$ \\bar{x} = \\frac{1}{n} \\sum_{i=1}^{n} x_i $$\n"
   ]
  }
 ],
 "metadata": {
  "kernelspec": {
   "display_name": "Python 3 (ipykernel)",
   "language": "python",
   "name": "python3"
  },
  "language_info": {
   "codemirror_mode": {
    "name": "ipython",
    "version": 3
   },
   "file_extension": ".py",
   "mimetype": "text/x-python",
   "name": "python",
   "nbconvert_exporter": "python",
   "pygments_lexer": "ipython3",
   "version": "3.11.4"
  }
 },
 "nbformat": 4,
 "nbformat_minor": 5
}
