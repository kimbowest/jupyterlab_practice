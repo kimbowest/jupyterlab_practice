{
 "cells": [
  {
   "cell_type": "markdown",
   "id": "b6823177-1fc1-46ec-956c-2569e5d109de",
   "metadata": {},
   "source": [
    "We are currently working in the following directory:"
   ]
  },
  {
   "cell_type": "code",
   "execution_count": 1,
   "id": "e470070e-cbf6-4694-8efc-240d53e4ae37",
   "metadata": {},
   "outputs": [
    {
     "name": "stdout",
     "output_type": "stream",
     "text": [
      "/c/Users/Home/Documents/UBC Data Tools course/Assignment 7\n"
     ]
    }
   ],
   "source": [
    "!pwd"
   ]
  },
  {
   "cell_type": "markdown",
   "id": "e411602b-293b-470d-a127-8ef9f865ea22",
   "metadata": {},
   "source": [
    "To time how long it takes to run a Python cell, we could use the timeit command inside a cell as is shown below:\n",
    "\n",
    "```python\n",
    "%%timeit\r",
    "for i in range(1_000_000):\r\n",
    "    i**2**2\r",
    "```\n"
   ]
  },
  {
   "cell_type": "code",
   "execution_count": null,
   "id": "be42e65b-c92f-447f-a309-ca0201e7b94e",
   "metadata": {},
   "outputs": [],
   "source": [
    "!jupyter nbconvert question12.ipynb \\\n",
    "    --to html \\\n",
    "    --output=question12.html \\\n",
    "    --no-input"
   ]
  }
 ],
 "metadata": {
  "kernelspec": {
   "display_name": "Python 3 (ipykernel)",
   "language": "python",
   "name": "python3"
  },
  "language_info": {
   "codemirror_mode": {
    "name": "ipython",
    "version": 3
   },
   "file_extension": ".py",
   "mimetype": "text/x-python",
   "name": "python",
   "nbconvert_exporter": "python",
   "pygments_lexer": "ipython3",
   "version": "3.11.4"
  }
 },
 "nbformat": 4,
 "nbformat_minor": 5
}
